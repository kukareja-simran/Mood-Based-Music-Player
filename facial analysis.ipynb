{
 "cells": [
  {
   "cell_type": "code",
   "execution_count": null,
   "metadata": {},
   "outputs": [],
   "source": [
    "import boto3\n",
    "import cv2\n",
    "import IPython"
   ]
  },
  {
   "cell_type": "code",
   "execution_count": null,
   "metadata": {},
   "outputs": [],
   "source": [
    "cap = cv2.VideoCapture(0)\n",
    "myphoto = \"mypic.jpg\"\n",
    "ret, photo = cap.read()\n",
    "cv2.imwrite(myphoto, photo)\n",
    "cap.release()"
   ]
  },
  {
   "cell_type": "code",
   "execution_count": null,
   "metadata": {},
   "outputs": [],
   "source": [
    "region = \"ap-south-1\"\n",
    "bucket = \"miniprojecttyit\""
   ]
  },
  {
   "cell_type": "code",
   "execution_count": null,
   "metadata": {},
   "outputs": [],
   "source": [
    "uploaded_image = \"pic.jpg\""
   ]
  },
  {
   "cell_type": "code",
   "execution_count": null,
   "metadata": {},
   "outputs": [],
   "source": [
    "s3 = boto3.resource('s3')"
   ]
  },
  {
   "cell_type": "code",
   "execution_count": null,
   "metadata": {},
   "outputs": [],
   "source": [
    "s3.Bucket(bucket).upload_file(myphoto, uploaded_image)"
   ]
  },
  {
   "cell_type": "code",
   "execution_count": null,
   "metadata": {},
   "outputs": [],
   "source": [
    "rek = boto3.client('rekognition', region)"
   ]
  },
  {
   "cell_type": "code",
   "execution_count": null,
   "metadata": {},
   "outputs": [],
   "source": [
    "responce = rek.detect_faces(Image={\n",
    "        \"S3Object\": {\n",
    "            \"Bucket\": bucket,\n",
    "            \"Name\": uploaded_image\n",
    "        }}, Attributes = ['ALL'])"
   ]
  },
  {
   "cell_type": "code",
   "execution_count": null,
   "metadata": {},
   "outputs": [],
   "source": [
    "def play_song(song_name):\n",
    "    from pygame import mixer\n",
    "    mixer.init()\n",
    "    mixer.music.load(song_name)\n",
    "    mixer.music.set_volume(0.7)\n",
    "    mixer.music.play()\n",
    "    while True:\n",
    "        print(\"p to pause\\nr to resume\\ne to exit\\n\")\n",
    "        query = input(\" \")\n",
    "        if query == 'p':\n",
    "            mixer.music.pause()\t\n",
    "        elif query == 'r':\n",
    "            mixer.music.unpause()\n",
    "        elif query == 'e':\n",
    "            mixer.music.stop()\n",
    "            break"
   ]
  },
  {
   "cell_type": "code",
   "execution_count": null,
   "metadata": {},
   "outputs": [],
   "source": [
    "while True:\n",
    "    if responce['FaceDetails'][0]['Emotions'][0]['Type'] == 'CALM' and responce['FaceDetails'][0]['Emotions'][0]['Confidence'] > 20:\n",
    "            print(\"1.Dil Diyan Gallan.mp3\\n2.Kal-Ho-Na-Ho.mp3\\n3.Maahi Ve.mp3\\n\")\n",
    "            ch = input(\"Which song would you like to play : \")\n",
    "            if ch == '1':\n",
    "                print(\"Playing Song\")\n",
    "                play_song(\"songs/Calm/Dil Diyan Gallan (Tiger Zinda Hai) 128 Kbps.mp3\")\n",
    "            elif ch == '2':\n",
    "                print(\"Playing Song\")\n",
    "                play_song(\"songs/Calm/Kal-Ho-Na-Ho-Instrumental-(pagalworldsongs.co.in).mp3\")\n",
    "            elif ch == '3':\n",
    "                print(\"Playing Song\")\n",
    "                play_song(\"songs/Calm/Maahi Ve (Wajah Tum Ho) 128 Kbps.mp3\")\n",
    "            else:\n",
    "                break\n",
    "\n",
    "    elif responce['FaceDetails'][0]['Emotions'][0]['Type'] == 'HAPPY' and responce['FaceDetails'][0]['Emotions'][0]['Confidence'] > 20:\n",
    "            print(\"1.Chittiyaan-Kalaiyaan.mp3\\n2.Roobaroo.mp3\\n3.senorita.mp3\\n\")\n",
    "            ch = input(\"Which song would you like to play : \")\n",
    "            ch = random.choice(c)\n",
    "            if ch == '1':\n",
    "                print(\"Playing Song\")\n",
    "                play_song(\"songs/Happy/Chittiyaan-Kalaiyaan-b-Roy-(pagalworldsongs.co.in).mp3\")\n",
    "            elif ch == '2':\n",
    "                print(\"Playing Song\")\n",
    "                play_song(\"songs/Happy/Roobaroo-(pagalworldsongs.co.in).mp3\")\n",
    "            elif ch == '3':\n",
    "                print(\"Playing Song\")\n",
    "                play_song(\"songs/Happy/senorita.mp3\")\n",
    "            else:\n",
    "                break\n",
    "\n",
    "    elif responce['FaceDetails'][0]['Emotions'][0]['Type'] == 'SURPRISED' and responce['FaceDetails'][0]['Emotions'][0]['Confidence'] > 20:\n",
    "            print(\"1.Hai Junoon.mp3\\n2.Aaj Main Upar.mp3\\n3.Ilahi.mp3\\n4.Life-Is-Crazy.mp3\\n\")\n",
    "            ch = input(\"Which song would you like to play : \")\n",
    "            if ch == '1':\n",
    "                print(\"Playing Song\")\n",
    "                play_song(\"songs/Surprised/01. Hai Junoon.mp3\")\n",
    "            elif ch == '2':\n",
    "                print(\"Playing Song\")\n",
    "                play_song(\"songs/Surprised/Aaj Main Upar - (amlijatt.in).mp3\")\n",
    "            elif ch == '3':\n",
    "                print(\"Playing Song\")\n",
    "                play_song(\"songs/Surprised/Ilahi-(pagalworldsongs.co.in).mp3\")\n",
    "            elif ch == '4':\n",
    "                print(\"Playing Song\")\n",
    "                play_song(\"songs/Surprised/Life-Is-Crazy-(pagalworldsongs.co.in).mp3\")\n",
    "            else:\n",
    "                break\n",
    "\n",
    "    elif responce['FaceDetails'][0]['Emotions'][0]['Type'] == 'DISGUSTED' and responce['FaceDetails'][0]['Emotions'][0]['Confidence'] > 20:\n",
    "            print(\"1.Agar Tum Saath Ho.mp3\\n2.Kabira.mp3\\n3.Maana Ke Hum Yaar Nahi.mp3\\n\")\n",
    "            ch = input(\"Which song would you like to play : \")\n",
    "            if ch == '1':\n",
    "                print(\"Playing Song\")\n",
    "                play_song(\"songs/Disgust/Agar Tum Saath Ho(PaglaSongs).mp3\")\n",
    "            elif ch == '2':\n",
    "                print(\"Playing Song\")\n",
    "                play_song(\"songs/Disgust/Kabira.mp3\")\n",
    "            elif ch == '3':\n",
    "                print(\"Playing Song\")\n",
    "                play_song(\"songs/Disgust/Maana Ke Hum Yaar Nahi (Meri Pyaari Bindu) 128 Kbps.mp3\")\n",
    "            else:\n",
    "                break\n",
    "\n",
    "    elif responce['FaceDetails'][0]['Emotions'][0]['Type'] == 'CONFUSED' and responce['FaceDetails'][0]['Emotions'][0]['Confidence'] > 20:\n",
    "            print(\"1. Kuch-To-Hua-Hai.mp3\\n2.Tum-Ho.mp3\\n3.Zara-Sa-Power-Ballad.mp3\\n\")\n",
    "            ch = input(\"Which song would you like to play : \")\n",
    "            if ch == '1':\n",
    "                print(\"Playing Song\")\n",
    "                play_song(\"songs/confused/Kuch-To-Hua-Hai-(pagalworldsongs.co.in).mp3\")\n",
    "            elif ch == '2':\n",
    "                print(\"Playing Song\")\n",
    "                play_song(\"songs/confused/Tum-Ho-(pagalworldsongs.co.in).mp3\")\n",
    "            elif ch == '3':\n",
    "                print(\"Playing Song\")\n",
    "                play_song(\"songs/confused/Zara-Sa-Power-Ballad-(pagalworldsongs.co.in).mp3\")\n",
    "            else:\n",
    "                break\n",
    "\n",
    "    elif responce['FaceDetails'][0]['Emotions'][0]['Type'] == 'FEAR' and responce['FaceDetails'][0]['Emotions'][0]['Confidence'] > 20:\n",
    "            print(\"1.breathin.mp3\\n2.In My Blood.mp3\\n\")\n",
    "            ch = input(\"Which song would you like to play : \")\n",
    "            if ch == '1':\n",
    "                print(\"Playing Song\")\n",
    "                play_song(\"songs/fear/Ariana Grande - breathin (Official Video) (320  kbps).mp3\")\n",
    "            elif ch == '2':\n",
    "                print(\"Playing Song\")\n",
    "                play_song(\"songs/fear/Shawn Mendes - In My Blood.mp3\")\n",
    "            else:\n",
    "                break\n",
    "                \n",
    "    elif responce['FaceDetails'][0]['Emotions'][0]['Type'] == 'ANGRY' and responce['FaceDetails'][0]['Emotions'][0]['Confidence'] > 20:\n",
    "            print(\"Playing Song\")\n",
    "            play_song(\"happy.mp3\") \n",
    "\n",
    "    elif responce['FaceDetails'][0]['Emotions'][0]['Type'] == 'SAD' and responce['FaceDetails'][0]['Emotions'][0]['Confidence'] > 20:\n",
    "            print(\"1.Abhi Mujh Mein Kahin.mp3\\n2.Bekhayali.mp3\\n3.Baarish.mp3\\n4.adap-Tadap-Ke.mp3\\n\")\n",
    "            ch = input(\"Which song would you like to play : \")\n",
    "            if ch == '1':\n",
    "                print(\"Playing Song\")\n",
    "                play_song(\"songs/Sad/Abhi Mujh Mein Kahin.mp3\")\n",
    "            elif ch == '2':\n",
    "                print(\"Playing Song\")\n",
    "                play_song(\"songs/Sad/Bekhayali - Kabir Singh 128 Kbps.mp3\")\n",
    "            elif ch == '3':\n",
    "                print(\"Playing Song\")\n",
    "                play_song(\"songs/Sad/Baarish (Half Girlfriend) 128 Kbps.mp3\")\n",
    "            elif ch == '4':\n",
    "                print(\"Playing Song\")\n",
    "                play_song(\"songs/Sad/Tadap-Tadap-Ke-(pagalworldsongs.co.in).mp3\")\n",
    "            else:\n",
    "                break\n",
    "    else:\n",
    "        x = input(\"Please specify any song:\")\n",
    "        if ((\"romantic\" in x) or (\"romance\" in x)):\n",
    "            print(\"1.Ishq Ki Baarish.mp3\\n2.Ishq-Wala-Love.mp3\\n3.Muskurane.mp3\")\n",
    "            ch = input(\"Which song would you like to play : \")\n",
    "            if ch == '1':\n",
    "                print(\"Playing Song\")\n",
    "                play_song(\"songs/Romantic/05 Ishq Ki Baarish (DjBewafa.Com).mp3\")\n",
    "            elif ch == '2':\n",
    "                print(\"Playing Song\")\n",
    "                play_song(\"songs/Romantic/Ishq-Wala-Love-(pagalworldsongs.co.in).mp3\")\n",
    "            elif ch == '3':\n",
    "                print(\"Playing Song\")\n",
    "                play_song(\"songs/Romantic/Muskurane-(Unplugged)-(pagalworldsongs.co.in).mp3\")\n",
    "            else:\n",
    "                break"
   ]
  }
 ],
 "metadata": {
  "kernelspec": {
   "display_name": "Python 3",
   "language": "python",
   "name": "python3"
  },
  "language_info": {
   "codemirror_mode": {
    "name": "ipython",
    "version": 3
   },
   "file_extension": ".py",
   "mimetype": "text/x-python",
   "name": "python",
   "nbconvert_exporter": "python",
   "pygments_lexer": "ipython3",
   "version": "3.8.3"
  }
 },
 "nbformat": 4,
 "nbformat_minor": 4
}
